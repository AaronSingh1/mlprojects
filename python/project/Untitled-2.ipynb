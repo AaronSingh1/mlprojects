{
 "cells": [
  {
   "cell_type": "code",
   "execution_count": null,
   "metadata": {},
   "outputs": [],
   "source": [
    "import tensorflow as tf\n",
    "from tensorflow import keras\n",
    "from tensorflow.keras.preprocessing import image\n",
    "from tensorflow.keras.applications.resnet50 import preprocess_input, decode_predictions\n",
    "import numpy as np\n",
    "\n",
    "# Load the pre-trained ResNet50 model\n",
    "model = keras.applications.ResNet50(weights='imagenet')\n",
    "\n",
    "# Load and preprocess the image\n",
    "img_path = r'C:\\Users\\aaron\\OneDrive\\Pictures\\project\\cats_and_dogs_filtered\\cats_and_dogs_filtered\\validation\\dogs\\dog.2077.jpg'  # Replace with the path to your image\n",
    "img = image.load_img(img_path, target_size=(224, 224))\n",
    "x = image.img_to_array(img)\n",
    "x = np.expand_dims(x, axis=0)\n",
    "x = preprocess_input(x)\n",
    "\n",
    "# Perform image recognition\n",
    "predictions = model.predict(x)\n",
    "decoded_predictions = decode_predictions(predictions, top=3)[0]\n",
    "\n",
    "# Output the top predictions\n",
    "print('Predictions:')\n",
    "for pred in decoded_predictions:\n",
    "    print(f'{pred[1]}: {pred[2]*100:.2f}%')\n"
   ]
  }
 ],
 "metadata": {
  "language_info": {
   "name": "python"
  },
  "orig_nbformat": 4
 },
 "nbformat": 4,
 "nbformat_minor": 2
}
